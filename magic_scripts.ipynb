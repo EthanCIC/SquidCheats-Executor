{
 "cells": [
  {
   "cell_type": "code",
   "execution_count": 1,
   "id": "d9fe8cbc",
   "metadata": {},
   "outputs": [],
   "source": [
    "from sell_strategies import *\n",
    "from squid_cheat import *"
   ]
  },
  {
   "cell_type": "markdown",
   "id": "514c0695",
   "metadata": {},
   "source": [
    "# 🚀 產出平均鋪單策略腳本"
   ]
  },
  {
   "cell_type": "markdown",
   "id": "f566cf5c",
   "metadata": {},
   "source": [
    "#### ratio: 百分之多少的單 TON 的數量要四捨五入到百位跟千位\n",
    "#### ton_threshold: 要調用餘額多少 TON 以上的帳號"
   ]
  },
  {
   "cell_type": "code",
   "execution_count": null,
   "id": "3012dbc1",
   "metadata": {},
   "outputs": [],
   "source": [
    "sell_strategy_commands = sell_strategy_avg(\n",
    "    order_number = 1000, \n",
    "    lower_bound_price = 0.008, \n",
    "    upper_bound_price = 0.0105, \n",
    "    lower_bound_egg = 100, \n",
    "    upper_bound_egg = 5000, \n",
    "    ratio = 0.8, \n",
    "    ton_threshold = 0.01)"
   ]
  },
  {
   "cell_type": "markdown",
   "id": "dd76ab7d",
   "metadata": {},
   "source": [
    "### 檢查腳本有沒有問題"
   ]
  },
  {
   "cell_type": "code",
   "execution_count": null,
   "id": "190eba85",
   "metadata": {
    "scrolled": true
   },
   "outputs": [],
   "source": [
    "sell_strategy_commands"
   ]
  },
  {
   "cell_type": "markdown",
   "id": "ad87532d",
   "metadata": {},
   "source": [
    "### 沒問題的話就執行\n",
    "\n",
    "#### sleep_min & sleep_max 不一定要填，也可以只填一個\n",
    "#### N_min & N_max 可以填一樣"
   ]
  },
  {
   "cell_type": "code",
   "execution_count": null,
   "id": "fe1eaf47",
   "metadata": {},
   "outputs": [],
   "source": [
    "execute_commands(sell_strategy_commands, N_min=5, N_max=20, sleep_min=None, sleep_max=None)"
   ]
  },
  {
   "cell_type": "markdown",
   "id": "4162276a",
   "metadata": {},
   "source": [
    "# 🚀 更新全部機器人地址的餘額"
   ]
  },
  {
   "cell_type": "markdown",
   "id": "f060f108",
   "metadata": {},
   "source": [
    "#### 一次執行的數量 = 500 * N\n",
    "#### 執行完會把最新的餘額存成 updated_balances.csv "
   ]
  },
  {
   "cell_type": "code",
   "execution_count": 2,
   "id": "cb778777",
   "metadata": {},
   "outputs": [
    {
     "name": "stdout",
     "output_type": "stream",
     "text": [
      "Starting to update balances...\n",
      "Reading and processing file 'account_balance.sh'...\n",
      "Executing commands...\n",
      "\n",
      "============================================================================================\n",
      "Initial run: There are 51 commands in 6 batches to run, which will take at most 180 seconds\n",
      "============================================================================================\n",
      "\n",
      "Running 10 commands:\n",
      "\t>> timeout --kill-after=30 30 npm run start -- update 1 500 \n",
      "\t>> timeout --kill-after=30 30 npm run start -- update 501 1000 \n",
      "\t>> timeout --kill-after=30 30 npm run start -- update 1001 1500 \n",
      "\t>> timeout --kill-after=30 30 npm run start -- update 1501 2000 \n",
      "\t>> timeout --kill-after=30 30 npm run start -- update 2001 2500 \n",
      "\t>> timeout --kill-after=30 30 npm run start -- update 2501 3000 \n",
      "\t>> timeout --kill-after=30 30 npm run start -- update 3001 3500 \n",
      "\t>> timeout --kill-after=30 30 npm run start -- update 3501 4000 \n",
      "\t>> timeout --kill-after=30 30 npm run start -- update 4001 4500 \n",
      "\t>> timeout --kill-after=30 30 npm run start -- update 4501 5000 \n",
      "\n",
      "Batch 1 of 6 completed. 10 commands succeeded, 0 commands failed.\n",
      "\n",
      "Running 10 commands:\n",
      "\t>> timeout --kill-after=30 30 npm run start -- update 5001 5500 \n",
      "\t>> timeout --kill-after=30 30 npm run start -- update 5501 6000 \n",
      "\t>> timeout --kill-after=30 30 npm run start -- update 6001 6500 \n",
      "\t>> timeout --kill-after=30 30 npm run start -- update 6501 7000 \n",
      "\t>> timeout --kill-after=30 30 npm run start -- update 7001 7500 \n",
      "\t>> timeout --kill-after=30 30 npm run start -- update 7501 8000 \n",
      "\t>> timeout --kill-after=30 30 npm run start -- update 8001 8500 \n",
      "\t>> timeout --kill-after=30 30 npm run start -- update 8501 9000 \n",
      "\t>> timeout --kill-after=30 30 npm run start -- update 9001 9500 \n",
      "\t>> timeout --kill-after=30 30 npm run start -- update 9501 10000 \n",
      "\n",
      "Batch 2 of 6 completed. 10 commands succeeded, 0 commands failed.\n",
      "\n",
      "Running 10 commands:\n",
      "\t>> timeout --kill-after=30 30 npm run start -- update 10001 10500 \n",
      "\t>> timeout --kill-after=30 30 npm run start -- update 10501 11000\n",
      "\t>> timeout --kill-after=30 30 npm run start -- update 11001 11500\n",
      "\t>> timeout --kill-after=30 30 npm run start -- update 11501 12000\n",
      "\t>> timeout --kill-after=30 30 npm run start -- update 12001 12500\n",
      "\t>> timeout --kill-after=30 30 npm run start -- update 12501 13000\n",
      "\t>> timeout --kill-after=30 30 npm run start -- update 13001 13500\n",
      "\t>> timeout --kill-after=30 30 npm run start -- update 13501 14000\n",
      "\t>> timeout --kill-after=30 30 npm run start -- update 14001 14500\n",
      "\t>> timeout --kill-after=30 30 npm run start -- update 14501 15000\n",
      "\n",
      "Batch 3 of 6 completed. 10 commands succeeded, 0 commands failed.\n",
      "\n",
      "Running 10 commands:\n",
      "\t>> timeout --kill-after=30 30 npm run start -- update 15001 15500\n",
      "\t>> timeout --kill-after=30 30 npm run start -- update 15501 16000\n",
      "\t>> timeout --kill-after=30 30 npm run start -- update 16001 16500\n",
      "\t>> timeout --kill-after=30 30 npm run start -- update 16501 17000\n",
      "\t>> timeout --kill-after=30 30 npm run start -- update 17001 17500\n",
      "\t>> timeout --kill-after=30 30 npm run start -- update 17501 18000\n",
      "\t>> timeout --kill-after=30 30 npm run start -- update 18001 18500\n",
      "\t>> timeout --kill-after=30 30 npm run start -- update 19001 19500\n",
      "\t>> timeout --kill-after=30 30 npm run start -- update 20001 20500\n",
      "\t>> timeout --kill-after=30 30 npm run start -- update 21001 21500\n",
      "\n",
      "Batch 4 of 6 completed. 7 commands succeeded, 3 commands failed.\n",
      "\n",
      "Running 10 commands:\n",
      "\t>> timeout --kill-after=30 30 npm run start -- update 22001 22500\n",
      "\t>> timeout --kill-after=30 30 npm run start -- update 23001 23500\n",
      "\t>> timeout --kill-after=30 30 npm run start -- update 24001 24500\n",
      "\t>> timeout --kill-after=30 30 npm run start -- update 25001 25500\n",
      "\t>> timeout --kill-after=30 30 npm run start -- update 18501 19000\n",
      "\t>> timeout --kill-after=30 30 npm run start -- update 19501 20000\n",
      "\t>> timeout --kill-after=30 30 npm run start -- update 20501 21000\n",
      "\t>> timeout --kill-after=30 30 npm run start -- update 21501 22000\n",
      "\t>> timeout --kill-after=30 30 npm run start -- update 22501 23000\n",
      "\t>> timeout --kill-after=30 30 npm run start -- update 23501 24000\n",
      "\n",
      "Batch 5 of 6 completed. 10 commands succeeded, 0 commands failed.\n",
      "\n",
      "Running 1 commands:\n",
      "\t>> timeout --kill-after=30 30 npm run start -- update 24501 25000\n",
      "\n",
      "Batch 6 of 6 completed. 1 commands succeeded, 0 commands failed.\n",
      "\n",
      "\n",
      "Summary of Initial run: 48 commands succeeded, 3 commands failed. Retrying failed commands...\n",
      "\n",
      "\n",
      "============================================================================================\n",
      "Retry 1: There are 3 commands in 1 batches to run, which will take at most 30 seconds\n",
      "============================================================================================\n",
      "\n",
      "Running 3 commands:\n",
      "\t>> timeout --kill-after=30 30 npm run start -- update 15001 15500\n",
      "\t>> timeout --kill-after=30 30 npm run start -- update 17501 18000\n",
      "\t>> timeout --kill-after=30 30 npm run start -- update 20001 20500\n",
      "\n",
      "Batch 1 of 1 completed. 3 commands succeeded, 0 commands failed.\n",
      "\n",
      "\n",
      "Summary of Retry 1: 3 commands succeeded, 0 commands failed. Retrying failed commands...\n",
      "\n",
      "All commands have been executed\n",
      "Getting bot list from 'squid_cheat_db'...\n",
      "Saving DataFrame to 'updated_balances.csv'...\n",
      "Finished updating balances.\n"
     ]
    }
   ],
   "source": [
    "update_balances(N=10)"
   ]
  },
  {
   "cell_type": "markdown",
   "id": "6213605e",
   "metadata": {},
   "source": [
    "# 🚀 執行任意腳本"
   ]
  },
  {
   "cell_type": "markdown",
   "id": "ac9e6df0",
   "metadata": {},
   "source": [
    "#### filename 手動填入腳本檔案名字（包含副檔名），如 'script.sh'"
   ]
  },
  {
   "cell_type": "code",
   "execution_count": null,
   "id": "00090f3f",
   "metadata": {},
   "outputs": [],
   "source": [
    "filename = 'buy4_script1.txt'\n",
    "all_script_commands = read_and_process_file(filename)"
   ]
  },
  {
   "cell_type": "markdown",
   "id": "5da8c71f",
   "metadata": {},
   "source": [
    "### 檢查腳本有沒有問題"
   ]
  },
  {
   "cell_type": "code",
   "execution_count": null,
   "id": "51c319e3",
   "metadata": {},
   "outputs": [],
   "source": [
    "all_script_commands"
   ]
  },
  {
   "cell_type": "markdown",
   "id": "1601ff74",
   "metadata": {},
   "source": [
    "### 沒問題的話就執行\n",
    "\n",
    "#### sleep_min & sleep_max 不一定要填，也可以只填一個\n",
    "#### N_min & N_max 可以填一樣"
   ]
  },
  {
   "cell_type": "code",
   "execution_count": null,
   "id": "12b624a5",
   "metadata": {},
   "outputs": [],
   "source": [
    "execute_commands(buy_command, N_min=5, N_max=5, sleep_min=None, sleep_max=None)"
   ]
  },
  {
   "cell_type": "code",
   "execution_count": null,
   "id": "eae1e156",
   "metadata": {},
   "outputs": [],
   "source": [
    "buy_command = ['timeout --kill-after=30 30 npm run start -- buy 25221 5897 7100000000 UQA3N5N_fojEDoew8qoHmEWThlpkWO9ghQ7E-dvsfbDtPFC3 1711640734',\n",
    " 'timeout --kill-after=30 30 npm run start -- buy 25221 6901 7600000000 UQBgPDgqK-3r_4DHjGKAmVBs04P2imgvU4eWlko54Ckzv7LB 1711640701',\n",
    " 'timeout --kill-after=30 30 npm run start -- buy 25221 7305 7800000000 UQAszPIWhMBsutZhkl0O6Lvq9FcNo7nCDpQO8xLf1KdxSrXl 1711640701',\n",
    " 'timeout --kill-after=30 30 npm run start -- buy 25221 6874 8000000000 UQCl_5wziSrsYOnkMz8ZiJLGIAPmgYS-8FMUyVnmTOkxbHvq 1711640734']"
   ]
  },
  {
   "cell_type": "code",
   "execution_count": null,
   "id": "1451a375",
   "metadata": {},
   "outputs": [],
   "source": [
    "buy_command"
   ]
  },
  {
   "cell_type": "code",
   "execution_count": 2,
   "id": "680df50f",
   "metadata": {},
   "outputs": [],
   "source": [
    "orders = get_open_orders_from_squid_db()"
   ]
  },
  {
   "cell_type": "code",
   "execution_count": 12,
   "id": "370d278d",
   "metadata": {},
   "outputs": [
    {
     "data": {
      "text/plain": [
       "0       1.000000e-03\n",
       "1       1.000000e-03\n",
       "2       9.901000e-04\n",
       "3       1.000000e-03\n",
       "4       1.000000e-03\n",
       "            ...     \n",
       "4497    1.000000e+06\n",
       "4498    1.000000e+06\n",
       "4499    1.000000e+06\n",
       "4500    1.000000e+06\n",
       "4501    1.000000e+06\n",
       "Name: price, Length: 4502, dtype: float64"
      ]
     },
     "execution_count": 12,
     "metadata": {},
     "output_type": "execute_result"
    }
   ],
   "source": [
    "orders.iloc[:, 5]"
   ]
  },
  {
   "cell_type": "code",
   "execution_count": null,
   "id": "5d0a6d0f",
   "metadata": {},
   "outputs": [],
   "source": []
  }
 ],
 "metadata": {
  "kernelspec": {
   "display_name": "Python 3 (ipykernel)",
   "language": "python",
   "name": "python3"
  },
  "language_info": {
   "codemirror_mode": {
    "name": "ipython",
    "version": 3
   },
   "file_extension": ".py",
   "mimetype": "text/x-python",
   "name": "python",
   "nbconvert_exporter": "python",
   "pygments_lexer": "ipython3",
   "version": "3.9.12"
  }
 },
 "nbformat": 4,
 "nbformat_minor": 5
}
