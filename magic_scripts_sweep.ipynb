{
 "cells": [
  {
   "cell_type": "code",
   "execution_count": 4,
   "id": "d9fe8cbc",
   "metadata": {},
   "outputs": [],
   "source": [
    "from sell_strategies import *\n",
    "from squid_cheat import *"
   ]
  },
  {
   "cell_type": "markdown",
   "id": "08e86e5c",
   "metadata": {},
   "source": [
    "# 🚀 更新錢包餘額\n",
    "## 會需要跑一陣子，請耐心等待"
   ]
  },
  {
   "cell_type": "code",
   "execution_count": 3,
   "id": "d81e4c75",
   "metadata": {},
   "outputs": [
    {
     "name": "stderr",
     "output_type": "stream",
     "text": [
      "100%|██████████| 25221/25221 [01:30<00:00, 279.92it/s]\n"
     ]
    }
   ],
   "source": [
    "update_latest_bot_balance()"
   ]
  },
  {
   "cell_type": "markdown",
   "id": "514c0695",
   "metadata": {},
   "source": [
    "# 🚀 產出掃單策略腳本"
   ]
  },
  {
   "cell_type": "markdown",
   "id": "f566cf5c",
   "metadata": {},
   "source": [
    "#### target_price: 要把價格掃到什麼價位\n",
    "#### ton_threshold: 要調用餘額多少 TON 以上的帳號\n",
    "#### buffer: 每個帳號買完後，要留多少錢\n",
    "#### only_our_order: 只買我們掛的單\n",
    "#### ignore_addresses: 忽略這些地址的單 (TODO: 也許可以拿來針對鯨魚)\n",
    "#### ignore_our_order: 只買用戶掛的單\n",
    "#### order_ton_threshold: Ton大於這個數字的單不吃 (略過鯨魚單) (0表示不啟用這個功能)"
   ]
  },
  {
   "cell_type": "code",
   "execution_count": 2,
   "id": "3012dbc1",
   "metadata": {},
   "outputs": [],
   "source": [
    "sweep_strategy_commands, order_ids = sweep(\n",
    "    target_price=0.00077,\n",
    "    ton_threshold=0.62,\n",
    "    buffer=0.5, \n",
    "    only_our_order=False, \n",
    "    ignore_addresses=[], \n",
    "    ignore_our_order=False,\n",
    "    order_ton_threshold=0,\n",
    ")"
   ]
  },
  {
   "cell_type": "markdown",
   "id": "dd76ab7d",
   "metadata": {},
   "source": [
    "### 檢查腳本有沒有問題"
   ]
  },
  {
   "cell_type": "code",
   "execution_count": 4,
   "id": "190eba85",
   "metadata": {
    "scrolled": true
   },
   "outputs": [
    {
     "data": {
      "text/plain": [
       "['timeout --kill-after=30 30 npm run start -- buy 20563 281 200000000 UQDkdctlrjnd7sVSl8_RemiY32vZCsXXiDEgXZd188I0Roph 1712202766',\n",
       " 'timeout --kill-after=30 30 npm run start -- buy 22104 400 300000000 UQDMlz7vmmt600AVOHMvD_en4cZrZz7KmAIUDxMcj3QZHH31 1712201918',\n",
       " 'timeout --kill-after=30 30 npm run start -- buy 205 1527 1150000000 UQD_zYuL0DgmfBf8oIgnv8RhK0hGkVK_HZIEh4pPqBKNHl74 1712202754']"
      ]
     },
     "execution_count": 4,
     "metadata": {},
     "output_type": "execute_result"
    }
   ],
   "source": [
    "sweep_strategy_commands"
   ]
  },
  {
   "cell_type": "markdown",
   "id": "ad87532d",
   "metadata": {},
   "source": [
    "### 沒問題的話就執行\n",
    "\n",
    "#### finish_in_minutes: 幾分鐘內完成 (可以給小數)\n",
    "#### try_times: 嘗試幾次交易失敗就放棄"
   ]
  },
  {
   "cell_type": "code",
   "execution_count": 5,
   "id": "fe1eaf47",
   "metadata": {},
   "outputs": [
    {
     "name": "stdout",
     "output_type": "stream",
     "text": [
      "\n",
      "Try to run 19 commands. So far 2 commands succeeded, and still 1 commands to go.\n",
      "\n",
      "All commands have been executed\n",
      "Wait 30 seconds for the on-chain work and will provide sweep result.\n",
      "timeout --kill-after=30 30 npm run start -- buy 20563 281 200000000 UQDkdctlrjnd7sVSl8_RemiY32vZCsXXiDEgXZd188I0Roph 1712202766: success\n",
      "timeout --kill-after=30 30 npm run start -- buy 22104 400 300000000 UQDMlz7vmmt600AVOHMvD_en4cZrZz7KmAIUDxMcj3QZHH31 1712201918: fail\n",
      "timeout --kill-after=30 30 npm run start -- buy 205 1527 1150000000 UQD_zYuL0DgmfBf8oIgnv8RhK0hGkVK_HZIEh4pPqBKNHl74 1712202754: success\n",
      "================================================================================\n",
      "Out of 3 commands, 2 were successful, success rate is 66.67%.\n"
     ]
    }
   ],
   "source": [
    "execute_commands_for_sweep(sweep_strategy_commands, order_ids, finish_in_minutes=1.5, try_times=2)"
   ]
  }
 ],
 "metadata": {
  "kernelspec": {
   "display_name": "Python 3 (ipykernel)",
   "language": "python",
   "name": "python3"
  },
  "language_info": {
   "codemirror_mode": {
    "name": "ipython",
    "version": 3
   },
   "file_extension": ".py",
   "mimetype": "text/x-python",
   "name": "python",
   "nbconvert_exporter": "python",
   "pygments_lexer": "ipython3",
   "version": "3.11.6"
  }
 },
 "nbformat": 4,
 "nbformat_minor": 5
}
