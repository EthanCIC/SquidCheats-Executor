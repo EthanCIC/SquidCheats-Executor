{
 "cells": [
  {
   "cell_type": "code",
   "execution_count": 12,
   "id": "d9fe8cbc",
   "metadata": {},
   "outputs": [],
   "source": [
    "from sell_strategies import *\n",
    "from squid_cheat import *"
   ]
  },
  {
   "cell_type": "markdown",
   "id": "514c0695",
   "metadata": {},
   "source": [
    "# 🚀 產出掃單策略腳本"
   ]
  },
  {
   "cell_type": "markdown",
   "id": "f566cf5c",
   "metadata": {},
   "source": [
    "#### target_price: 要把價格掃到什麼價位\n",
    "#### ton_threshold: 要調用餘額多少 TON 以上的帳號\n",
    "#### buffer: 每個帳號買完後，要留多少錢\n",
    "#### only_our_order: 只買我們掛的單\n",
    "#### ignore_addresses: 忽略這些地址的單 (TODO: 也許可以拿來針對鯨魚)\n",
    "#### ignore_our_order: 只買用戶掛的單\n",
    "#### order_ton_threshold: Ton大於這個數字的單不吃 (略過鯨魚單) (0表示不啟用這個功能)"
   ]
  },
  {
   "cell_type": "code",
   "execution_count": 13,
   "id": "3012dbc1",
   "metadata": {},
   "outputs": [],
   "source": [
    "sweep_strategy_commands, order_ids = sweep(\n",
    "    target_price=0.0006,\n",
    "    ton_threshold=0.62,\n",
    "    buffer=0.5, \n",
    "    only_our_order=False, \n",
    "    ignore_addresses=[], \n",
    "    ignore_our_order=False,\n",
    "    order_ton_threshold=0,\n",
    ")"
   ]
  },
  {
   "cell_type": "markdown",
   "id": "dd76ab7d",
   "metadata": {},
   "source": [
    "### 檢查腳本有沒有問題"
   ]
  },
  {
   "cell_type": "code",
   "execution_count": 15,
   "id": "190eba85",
   "metadata": {
    "scrolled": true
   },
   "outputs": [
    {
     "data": {
      "text/plain": [
       "['timeout --kill-after=30 30 npm run start -- buy 83 929 410000000 UQDGkf43Gz1zqGNIvYRQzuIrRX3km7v4OTxe8vyHkRKF_JvK 1712133790',\n",
       " 'timeout --kill-after=30 30 npm run start -- buy 22 1700 810000000 UQDxqzkfAtS7Y9YqI8JvsHF-W-EK9CVtKV20SchjAwposmQ1 1712133790',\n",
       " 'timeout --kill-after=30 30 npm run start -- buy 27 200 100000000 UQCcdzUNz440CBdqzM50qegC-cHJgUAOL-pgnEabVRCaPcR3 1712133790',\n",
       " 'timeout --kill-after=30 30 npm run start -- buy 4 4000 2000000000 UQCwDXnv4BojzUkGdyU_LvPIJAt3tT8PSctH1u4_A8PSBSAM 1712133790',\n",
       " 'timeout --kill-after=30 30 npm run start -- buy 23 310 165000000 UQDZyk7Tjb4YLLyuJsnHW3xmlg05IT53FyU--5Kw5haN2dqk 1712133790',\n",
       " 'timeout --kill-after=30 30 npm run start -- buy 80 650 350000000 UQDPXtJ4DuPtmL4Edu_FivhAq-fu451s8cjD2zWH9rwm21BB 1712133790',\n",
       " 'timeout --kill-after=30 30 npm run start -- buy 71 727 400000000 UQBgCx2yWAAeqH1HGcsMjOWioH0iA0esJ9FZPylVrCgOCIb- 1712133790',\n",
       " 'timeout --kill-after=30 30 npm run start -- buy 34 726 400000000 UQApCU2n8-A6Oz3I9f2z4OIMR-hEe2nuZcyJxVipXY_RymqO 1712133790',\n",
       " 'timeout --kill-after=30 30 npm run start -- buy 85 721 400000000 UQCOWhQTmpIVItLwRK8jTkkBWMAJKCLvbyJB3NQ8VDNjvNNP 1712133790',\n",
       " 'timeout --kill-after=30 30 npm run start -- buy 18 448 250000000 UQBVYrIiINcAh2uV74LnSMkDLRGw6s0X1MK7t4V4gQk8IJcr 1712133790',\n",
       " 'timeout --kill-after=30 30 npm run start -- buy 9 268 150000000 UQDb52NVbEn5M1ZnU_Uw2cnPG7aZeWZsU21kExe559WWLBsz 1712133790',\n",
       " 'timeout --kill-after=30 30 npm run start -- buy 21 301 170000000 UQBgCx2yWAAeqH1HGcsMjOWioH0iA0esJ9FZPylVrCgOCIb- 1712133790',\n",
       " 'timeout --kill-after=30 30 npm run start -- buy 53 300 170000000 UQBSRVHIt9mNKVaILWEyAWqHo2bLQ2vuDLg0wTBUCGxpEnlv 1712133790',\n",
       " 'timeout --kill-after=30 30 npm run start -- buy 18557 300 170000000 UQBNXVlnjww09-zyS_bn6YxkSAkoZVLp90GK4t8MeTlYjdhg 1712133790',\n",
       " 'timeout --kill-after=30 30 npm run start -- buy 24 518 300000000 UQDOYa4IaInjEIZ6A3h2fG2ANLFmkq1LFbfhmCQnnIxVUEoX 1712133790',\n",
       " 'timeout --kill-after=30 30 npm run start -- buy 17102 378 220000000 UQAeNoioQrwtx5-7AGjgT7LNwlW9ISVzi-jAub-WewMxpPH5 1712133790',\n",
       " 'timeout --kill-after=30 30 npm run start -- buy 17396 515 300000000 UQCoP6FZ9aFBxNK4bL1DqsffzuF7b7fzhgdy5BS54vqad7qY 1712133790',\n",
       " 'timeout --kill-after=30 30 npm run start -- buy 13768 600 350000000 UQAN_JEaFky1WfRFpiHKIdBjmnX1UjApclVh7MtFubND0bZ6 1712133790',\n",
       " 'timeout --kill-after=30 30 npm run start -- buy 88 265 155000000 UQCqM5M1yPyjs_eV2GW0U9Ggxtchae5YYFquaNTcmOqt-xRW 1712133790',\n",
       " 'timeout --kill-after=30 30 npm run start -- buy 30 468 275000000 UQAIp4Dsne-FNFwk-cdcI3zUSSXrdNA7GrJTbXU_3TUK3Kca 1712133790',\n",
       " 'timeout --kill-after=30 30 npm run start -- buy 13748 238 140000000 UQBTl93rdo8wG1U8VfPZFHW8S8Qp81Ep0D-KnpmxFbB9z5aN 1712133790',\n",
       " 'timeout --kill-after=30 30 npm run start -- buy 56 420 250000000 UQByFN92S7t4MKorRKcOWcBSBQ52samkUQwUwXzRbr-E1rtz 1712133790',\n",
       " 'timeout --kill-after=30 30 npm run start -- buy 13 904 540000000 UQCKBANOavX2-V3gXN25aQAYeFr-UNF86YWvw3D5YQMH7r5i 1712133790',\n",
       " 'timeout --kill-after=30 30 npm run start -- buy 90 256 153000000 UQAIp4Dsne-FNFwk-cdcI3zUSSXrdNA7GrJTbXU_3TUK3Kca 1712133790',\n",
       " 'timeout --kill-after=30 30 npm run start -- buy 19800 417 250000000 UQAfZq142jTSxORIaMa7g_HNc1ES6FXh4GAauNIc5_p3e74H 1712133790']"
      ]
     },
     "execution_count": 15,
     "metadata": {},
     "output_type": "execute_result"
    }
   ],
   "source": [
    "sweep_strategy_commands"
   ]
  },
  {
   "cell_type": "markdown",
   "id": "ad87532d",
   "metadata": {},
   "source": [
    "### 沒問題的話就執行\n",
    "\n",
    "#### finish_in_minutes: 幾分鐘內完成 (可以給小數)\n",
    "#### try_times: 嘗試幾次交易失敗就放棄"
   ]
  },
  {
   "cell_type": "code",
   "execution_count": 2,
   "id": "fe1eaf47",
   "metadata": {},
   "outputs": [
    {
     "name": "stdout",
     "output_type": "stream",
     "text": [
      "\n",
      "Try to run 1 commands. So far 1 commands succeeded, and still 7 commands to go.\n",
      "\n",
      "\n",
      "Try to run 1 commands. So far 2 commands succeeded, and still 6 commands to go.\n",
      "\n",
      "\n",
      "Try to run 2 commands. So far 4 commands succeeded, and still 4 commands to go.\n",
      "\n",
      "\n",
      "Try to run 2 commands. So far 5 commands succeeded, and still 3 commands to go.\n",
      "\n",
      "\n",
      "Try to run 2 commands. So far 7 commands succeeded, and still 1 commands to go.\n",
      "\n",
      "All commands have been executed\n"
     ]
    }
   ],
   "source": [
    "execute_commands_for_sweep(sweep_strategy_commands, order_ids, finish_in_minutes=3.5, try_times=2)"
   ]
  },
  {
   "cell_type": "markdown",
   "id": "4162276a",
   "metadata": {},
   "source": [
    "# 🚀 更新全部機器人地址的餘額"
   ]
  },
  {
   "cell_type": "markdown",
   "id": "f060f108",
   "metadata": {},
   "source": [
    "#### 一次執行的數量 = 500 * N\n",
    "#### 執行完會把最新的餘額存成 updated_balances.csv "
   ]
  },
  {
   "cell_type": "code",
   "execution_count": 2,
   "id": "cb778777",
   "metadata": {},
   "outputs": [
    {
     "name": "stdout",
     "output_type": "stream",
     "text": [
      "Starting to update balances...\n",
      "Reading and processing file 'account_balance.sh'...\n",
      "Executing commands...\n",
      "\n",
      "============================================================================================\n",
      "Initial run: There are 51 commands in 6 batches to run, which will take at most 180 seconds\n",
      "============================================================================================\n",
      "\n",
      "Running 10 commands:\n",
      "\t>> timeout --kill-after=30 30 npm run start -- update 1 500 \n",
      "\t>> timeout --kill-after=30 30 npm run start -- update 501 1000 \n",
      "\t>> timeout --kill-after=30 30 npm run start -- update 1001 1500 \n",
      "\t>> timeout --kill-after=30 30 npm run start -- update 1501 2000 \n",
      "\t>> timeout --kill-after=30 30 npm run start -- update 2001 2500 \n",
      "\t>> timeout --kill-after=30 30 npm run start -- update 2501 3000 \n",
      "\t>> timeout --kill-after=30 30 npm run start -- update 3001 3500 \n",
      "\t>> timeout --kill-after=30 30 npm run start -- update 3501 4000 \n",
      "\t>> timeout --kill-after=30 30 npm run start -- update 4001 4500 \n",
      "\t>> timeout --kill-after=30 30 npm run start -- update 4501 5000 \n",
      "\n",
      "Batch 1 of 6 completed. 10 commands succeeded, 0 commands failed.\n",
      "\n",
      "Running 10 commands:\n",
      "\t>> timeout --kill-after=30 30 npm run start -- update 5001 5500 \n",
      "\t>> timeout --kill-after=30 30 npm run start -- update 5501 6000 \n",
      "\t>> timeout --kill-after=30 30 npm run start -- update 6001 6500 \n",
      "\t>> timeout --kill-after=30 30 npm run start -- update 6501 7000 \n",
      "\t>> timeout --kill-after=30 30 npm run start -- update 7001 7500 \n",
      "\t>> timeout --kill-after=30 30 npm run start -- update 7501 8000 \n",
      "\t>> timeout --kill-after=30 30 npm run start -- update 8001 8500 \n",
      "\t>> timeout --kill-after=30 30 npm run start -- update 8501 9000 \n",
      "\t>> timeout --kill-after=30 30 npm run start -- update 9001 9500 \n",
      "\t>> timeout --kill-after=30 30 npm run start -- update 9501 10000 \n",
      "\n",
      "Batch 2 of 6 completed. 10 commands succeeded, 0 commands failed.\n",
      "\n",
      "Running 10 commands:\n",
      "\t>> timeout --kill-after=30 30 npm run start -- update 10001 10500 \n",
      "\t>> timeout --kill-after=30 30 npm run start -- update 10501 11000\n",
      "\t>> timeout --kill-after=30 30 npm run start -- update 11001 11500\n",
      "\t>> timeout --kill-after=30 30 npm run start -- update 11501 12000\n",
      "\t>> timeout --kill-after=30 30 npm run start -- update 12001 12500\n",
      "\t>> timeout --kill-after=30 30 npm run start -- update 12501 13000\n",
      "\t>> timeout --kill-after=30 30 npm run start -- update 13001 13500\n",
      "\t>> timeout --kill-after=30 30 npm run start -- update 13501 14000\n",
      "\t>> timeout --kill-after=30 30 npm run start -- update 14001 14500\n",
      "\t>> timeout --kill-after=30 30 npm run start -- update 14501 15000\n",
      "\n",
      "Batch 3 of 6 completed. 10 commands succeeded, 0 commands failed.\n",
      "\n",
      "Running 10 commands:\n",
      "\t>> timeout --kill-after=30 30 npm run start -- update 15001 15500\n",
      "\t>> timeout --kill-after=30 30 npm run start -- update 15501 16000\n",
      "\t>> timeout --kill-after=30 30 npm run start -- update 16001 16500\n",
      "\t>> timeout --kill-after=30 30 npm run start -- update 16501 17000\n",
      "\t>> timeout --kill-after=30 30 npm run start -- update 17001 17500\n",
      "\t>> timeout --kill-after=30 30 npm run start -- update 17501 18000\n",
      "\t>> timeout --kill-after=30 30 npm run start -- update 18001 18500\n",
      "\t>> timeout --kill-after=30 30 npm run start -- update 19001 19500\n",
      "\t>> timeout --kill-after=30 30 npm run start -- update 20001 20500\n",
      "\t>> timeout --kill-after=30 30 npm run start -- update 21001 21500\n",
      "\n",
      "Batch 4 of 6 completed. 7 commands succeeded, 3 commands failed.\n",
      "\n",
      "Running 10 commands:\n",
      "\t>> timeout --kill-after=30 30 npm run start -- update 22001 22500\n",
      "\t>> timeout --kill-after=30 30 npm run start -- update 23001 23500\n",
      "\t>> timeout --kill-after=30 30 npm run start -- update 24001 24500\n",
      "\t>> timeout --kill-after=30 30 npm run start -- update 25001 25500\n",
      "\t>> timeout --kill-after=30 30 npm run start -- update 18501 19000\n",
      "\t>> timeout --kill-after=30 30 npm run start -- update 19501 20000\n",
      "\t>> timeout --kill-after=30 30 npm run start -- update 20501 21000\n",
      "\t>> timeout --kill-after=30 30 npm run start -- update 21501 22000\n",
      "\t>> timeout --kill-after=30 30 npm run start -- update 22501 23000\n",
      "\t>> timeout --kill-after=30 30 npm run start -- update 23501 24000\n",
      "\n",
      "Batch 5 of 6 completed. 10 commands succeeded, 0 commands failed.\n",
      "\n",
      "Running 1 commands:\n",
      "\t>> timeout --kill-after=30 30 npm run start -- update 24501 25000\n",
      "\n",
      "Batch 6 of 6 completed. 1 commands succeeded, 0 commands failed.\n",
      "\n",
      "\n",
      "Summary of Initial run: 48 commands succeeded, 3 commands failed. Retrying failed commands...\n",
      "\n",
      "\n",
      "============================================================================================\n",
      "Retry 1: There are 3 commands in 1 batches to run, which will take at most 30 seconds\n",
      "============================================================================================\n",
      "\n",
      "Running 3 commands:\n",
      "\t>> timeout --kill-after=30 30 npm run start -- update 15001 15500\n",
      "\t>> timeout --kill-after=30 30 npm run start -- update 17501 18000\n",
      "\t>> timeout --kill-after=30 30 npm run start -- update 20001 20500\n",
      "\n",
      "Batch 1 of 1 completed. 3 commands succeeded, 0 commands failed.\n",
      "\n",
      "\n",
      "Summary of Retry 1: 3 commands succeeded, 0 commands failed. Retrying failed commands...\n",
      "\n",
      "All commands have been executed\n",
      "Getting bot list from 'squid_cheat_db'...\n",
      "Saving DataFrame to 'updated_balances.csv'...\n",
      "Finished updating balances.\n"
     ]
    }
   ],
   "source": [
    "update_balances(N=10)"
   ]
  }
 ],
 "metadata": {
  "kernelspec": {
   "display_name": "Python 3 (ipykernel)",
   "language": "python",
   "name": "python3"
  },
  "language_info": {
   "codemirror_mode": {
    "name": "ipython",
    "version": 3
   },
   "file_extension": ".py",
   "mimetype": "text/x-python",
   "name": "python",
   "nbconvert_exporter": "python",
   "pygments_lexer": "ipython3",
   "version": "3.11.6"
  }
 },
 "nbformat": 4,
 "nbformat_minor": 5
}
