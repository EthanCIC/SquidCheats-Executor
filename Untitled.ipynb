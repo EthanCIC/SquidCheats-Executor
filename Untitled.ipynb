{
 "cells": [
  {
   "cell_type": "code",
   "execution_count": 12,
   "id": "a8671b38",
   "metadata": {},
   "outputs": [],
   "source": [
    "bot_df = get_bot_list_from_squid_cheat_db(ton_threshold=ton_threshold, sort_column=sort_column)\n",
    "\n",
    "# 在 bot_df 中隨機取出 N 個 bot\n",
    "selected_bots = bot_df.sample(N)\n",
    "\n",
    "# 產生 hatch 指令\n",
    "commands = []\n",
    "for index, row in selected_bots.iterrows():\n",
    "    command = f\"timeout --kill-after=30 30 npm run start -- hatch {row['id']} {row['id']} {row['total_egg']}\"\n",
    "    commands.append(command)"
   ]
  },
  {
   "cell_type": "code",
   "execution_count": 13,
   "id": "3d62aecf",
   "metadata": {},
   "outputs": [
    {
     "data": {
      "text/plain": [
       "['timeout --kill-after=30 30 npm run start -- hatch 12626 12626 11264',\n",
       " 'timeout --kill-after=30 30 npm run start -- hatch 5411 5411 22699',\n",
       " 'timeout --kill-after=30 30 npm run start -- hatch 12961 12961 25604',\n",
       " 'timeout --kill-after=30 30 npm run start -- hatch 4128 4128 24193',\n",
       " 'timeout --kill-after=30 30 npm run start -- hatch 23776 23776 21716',\n",
       " 'timeout --kill-after=30 30 npm run start -- hatch 5730 5730 22693',\n",
       " 'timeout --kill-after=30 30 npm run start -- hatch 10454 10454 20075',\n",
       " 'timeout --kill-after=30 30 npm run start -- hatch 10623 10623 27431',\n",
       " 'timeout --kill-after=30 30 npm run start -- hatch 1180 1180 30401',\n",
       " 'timeout --kill-after=30 30 npm run start -- hatch 2024 2024 31752']"
      ]
     },
     "execution_count": 13,
     "metadata": {},
     "output_type": "execute_result"
    }
   ],
   "source": [
    "commands"
   ]
  },
  {
   "cell_type": "code",
   "execution_count": null,
   "id": "fb923f5d",
   "metadata": {},
   "outputs": [],
   "source": []
  }
 ],
 "metadata": {
  "kernelspec": {
   "display_name": "Python 3 (ipykernel)",
   "language": "python",
   "name": "python3"
  },
  "language_info": {
   "codemirror_mode": {
    "name": "ipython",
    "version": 3
   },
   "file_extension": ".py",
   "mimetype": "text/x-python",
   "name": "python",
   "nbconvert_exporter": "python",
   "pygments_lexer": "ipython3",
   "version": "3.9.12"
  }
 },
 "nbformat": 4,
 "nbformat_minor": 5
}
